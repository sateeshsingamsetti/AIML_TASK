#Silver layer
df.fillna(df.mean(numeric_only=True), inplace=True)
df.fillna(df.mode().iloc[0], inplace=True)
df['sex'] = df['sex'].astype('category').cat.codes
# Add more encodings...
silver = db["heart_disease_silver"]
silver.insert_many(json.loads(df.to_json(orient="records")))